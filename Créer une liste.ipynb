{
 "cells": [
  {
   "cell_type": "code",
   "execution_count": 3,
   "id": "eb1d6be3",
   "metadata": {},
   "outputs": [
    {
     "name": "stdout",
     "output_type": "stream",
     "text": [
      "CREER VOTRE PROPRE LISTE\n",
      "Enumérer les élément de la liste\n",
      "a\n",
      "b\n",
      "c\n",
      "d\n",
      "e\n",
      "f\n",
      "g\n",
      "\n",
      "votre liste comporte 7 éléments\n",
      "['a', 'b', 'c', 'd', 'e', 'f', 'g']\n"
     ]
    }
   ],
   "source": [
    "print('CREER VOTRE PROPRE LISTE')\n",
    "x=[]\n",
    "print('Enumérer les élément de la liste')\n",
    "x1=input()\n",
    "while x1!='':\n",
    "    x.append(x1)\n",
    "    x1=input()\n",
    "i=len(x)\n",
    "print('votre liste comporte '+str(i)+' éléments')\n",
    "    \n",
    "print(x)    \n",
    "#x.append(x1)"
   ]
  },
  {
   "cell_type": "code",
   "execution_count": null,
   "id": "54a8e923",
   "metadata": {},
   "outputs": [],
   "source": []
  }
 ],
 "metadata": {
  "kernelspec": {
   "display_name": "Python 3 (ipykernel)",
   "language": "python",
   "name": "python3"
  },
  "language_info": {
   "codemirror_mode": {
    "name": "ipython",
    "version": 3
   },
   "file_extension": ".py",
   "mimetype": "text/x-python",
   "name": "python",
   "nbconvert_exporter": "python",
   "pygments_lexer": "ipython3",
   "version": "3.9.7"
  }
 },
 "nbformat": 4,
 "nbformat_minor": 5
}
